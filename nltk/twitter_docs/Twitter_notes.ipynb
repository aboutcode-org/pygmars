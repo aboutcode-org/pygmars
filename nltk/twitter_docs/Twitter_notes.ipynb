{
 "cells": [
  {
   "cell_type": "markdown",
   "metadata": {},
   "source": [
    "# NLTK Twitter HOWTO"
   ]
  },
  {
   "cell_type": "markdown",
   "metadata": {},
   "source": [
    "## First Steps\n",
    "\n",
    "In order to collect data from Twitter, you first need to register a new *application* &mdash; this is Twitter's way of referring to any computer program that interacts with the Twitter API. As long as you save your registration information correctly, you should only need to do this once, since the information should work for any NLTK code that you write. You will need to have a Twitter account before you can register. Twitter also insists that [you add a mobile phone number to your Twitter profile](https://support.twitter.com/articles/110250-adding-your-mobile-number-to-your-account-via-web) before you will be allowed to register an application.\n",
    "\n",
    "These are the steps you need to carry out.\n",
    "\n",
    "### Getting your API keys from Twitter\n",
    "\n",
    "1. Sign in to your Twitter account at https://apps.twitter.com. You should then get sent to a screen that looks something like this:\n",
    "<img src=\"images/twitter_app1.tiff\" width=\"600px\">\n",
    "Clicking on the **Create New App** button should take you to the following screen:\n",
    "<img src=\"images/twitter_app2.tiff\" width=\"600px\">\n",
    "The information that you provide for **Name**, **Description** and **Website** can be anything you like.\n",
    "\n",
    "2. Make sure that you select **Read and Write** access for your application (as specified on the *Permissions* tab of Twitter's Application Management screen):\n",
    "<img src=\"images/twitter_app3.tiff\" width=\"600px\">\n",
    "\n",
    "3. Go to the tab labeled **Keys and Access Tokens**. It should look something like this, but with actual keys rather than a string of Xs:\n",
    "<img src=\"images/twitter_app4.png\" width=\"650px\">\n",
    "As you can see, this will give you four distinct keys: consumer key, consumer key secret, access token and access token secret.\n",
    "\n",
    "### Storing your keys\n",
    "1. Create a folder named `twitter-files` in your home directory. Within this folder, use a text editor to create a new file called `credentials.txt`. Make sure that this file is just a plain text file. In it, you should create which you should store in a text file with the following structure:\n",
    "```\n",
    "app_key=YOUR CONSUMER KEY  \n",
    "app_secret=YOUR CONSUMER SECRET  \n",
    "oauth_token=YOUR ACCESS TOKEN  \n",
    "oauth_token_secret=YOUR ACCESS TOKEN SECRET\n",
    "```\n",
    "Type the part up to and includinge the '=' symbol exactly as shown. The values on the right-hand side of the '=' &mdash; that is, everything in caps &mdash; should be cut-and-pasted from the relevant API key information shown on the Twitter **Keys and Access Tokens**. Save the file and that's it.\n",
    "\n",
    "2. It's going to be important for NLTK programs to know where you have stored your credentials. We'll assume that this folder is called `twitter-files`, but you can call it anything you like. It's going to be convenient if this folder is also where you save any files containing tweets that you collect. Once you have decided on the name and location of this folder, you will need to set the TWITTER environment variable to this value. For example, on a Unix-like system, you can use something like this:\n",
    "```bash\n",
    "export TWITTER=\"/path/to/your/twitter-files\"\n",
    "```\n",
    "On a Windows machine, right click on “My Computer” then select `Properties > Advanced > Environment Variables > User Variables > New...` One important thing to remember is that you need to keep your `credentials.txt` file private. So do **not** share your `twitter-files` folder with anyone else, and do not upload it to a public repository such as GitHub.\n",
    "\n",
    "3. Finally, read through Twitter's [Developer Rules of the Road](https://dev.twitter.com/overview/terms/policy). As far as these rules are concerned, you count as both the application developer and the User.\n",
    "\n",
    "### Install Twython\n",
    "The NLTK Twitter package relies on a third part library called [Twython](https://twython.readthedocs.org/). Install Twython via [pip](https://pip.pypa.io):\n",
    "```bash\n",
    "$ pip install twython\n",
    "```\n",
    "\n",
    "or with [easy_install](https://pythonhosted.org/setuptools/easy_install.html):\n",
    "\n",
    "```bash\n",
    "$ easy_install twython\n",
    "```\n",
    "We're now ready to get started. The `Twitter` class is a simple way of getting started."
   ]
  },
  {
   "cell_type": "markdown",
   "metadata": {},
   "source": [
    "*More detail*:\n",
    "Twitter offers are two main authentication options. OAuth 1 is for user-authenticated API calls, and allows sending status updates, direct messages, etc, whereas OAuth 2 is for application-authenticated calls, where read-only access is sufficient. Although OAuth 2 sounds more appropriate for the kind of tasks envisaged within NLTK, it turns out that access to Twitter's streaming API requires OAuth 1, which is why it's necessary to obtain *Read and Write* access for your application."
   ]
  },
  {
   "cell_type": "markdown",
   "metadata": {},
   "source": [
    "## Using the simple Twitter class\n",
    "\n",
    "We will start off very simply. The first example looks for tweets from the live public stream which include either  the word *love* or *hate*. We limit the call to finding 10 tweets. When you run this code, it will definitely produce different results!"
   ]
  },
  {
   "cell_type": "code",
   "execution_count": 8,
   "metadata": {
    "collapsed": false,
    "scrolled": true
   },
   "outputs": [
    {
     "name": "stdout",
     "output_type": "stream",
     "text": [
      "Tellin everyone I hate you..... I don't hate you I just don't like you 💁\n",
      "hi Luke Hemmings from 5sos\n",
      "my birthday is in 35 days\n",
      "and your follow would be the best present ever\n",
      "i love you so much\n",
      "@Luke5SOS\n",
      "@5SOS\n",
      "x511\n",
      "˚ஐ₊✧(❝᷀ੌ ˙̮ ❝᷀ੌॢ●)⁺˳ஐ༚\n",
      "luke hemmings, hey sunshine!\n",
      "it would mean the world if \n",
      "you could follow me.\n",
      "i love you forever\n",
      "@luke5sos 幸せ\n",
      "9997\n",
      "60 million. Love all of u. #Beliebers\n",
      "If you love me you'll get me coffee.\n",
      "RT @LAY9107: love you EXO LAY ♡♡♡ #3yearswithEXO http://t.co/HDW8jmOATf\n",
      "RT @BsbLifestyle__: *hits double*\n",
      "\n",
      "\"Damn, I love baseball!\"\n",
      "\n",
      "*strikes out looking*\n",
      "\n",
      "\"I FUCKING HATE BASEBALL!  FUCK!\"\n",
      "RT @qtjyh: Junsu: *sings somebody to love*\n",
      "\n",
      "Changmin: But hyung it's more epic if you say shimbody to love.\n",
      "\n",
      "Junsu: get out\n",
      "RT @toffeegee: SUKIRA - Kai \"Just like having a one and only girlfriend. I love you all\" http://t.co/gtOSmNCwtx\n",
      "@Louis_Tomlinson I cant even begin to describe how happy u and the guys make me. Im so proud of u. I fucking love u. Follow me please 75.505\n"
     ]
    }
   ],
   "source": [
    "from nltk.twitter import Twitter\n",
    "tw = Twitter()\n",
    "tw.tweets(keywords='love, hate', limit=10) #sample from the public stream"
   ]
  },
  {
   "cell_type": "markdown",
   "metadata": {},
   "source": [
    "The next example filters the live public stream by looking for specific accounts. In this case, we 'follow' two news organisations, namely `@CNN` and `@BBCNews`. Following [Twitter's advice](https://dev.twitter.com/streaming/reference/post/statuses/filter), we use the numeric userIDs for these accounts. Although we could write some Python code to convert usernames to userIDs, for now you might find it simpler to use a web service like [TweeterID](http://tweeterid.com) if you want to try out following different accounts."
   ]
  },
  {
   "cell_type": "code",
   "execution_count": 12,
   "metadata": {
    "collapsed": false
   },
   "outputs": [
    {
     "name": "stdout",
     "output_type": "stream",
     "text": [
      "RT @BBCNews: Woman charged with murdering son, 5, is acquitted; Scottish prosecutors accept she was insane http://t.co/diTM2k6TZf\n",
      "RT @BBCNews: Thieves target vault &amp; safety-deposit boxes in London's #HattonGarden jewellery district http://t.co/h17qnzGubx\n",
      "RT @BBCPolitics: David Cameron tells Welsh voters \"the plan's working - stick with the plan\" http://t.co/wApA5D64CD #GE2015 http://t.co/3sr…\n",
      "RT @CNN: #MarchMadness #CNNBrackets winner is @JohnKingCNN, followed by @BillWeirCNN &amp; @SanjayGuptaCNN http://t.co/AajK0D96Qx http://t.co/S…\n",
      "RT @BBCR1: Greg dropped the @BBCNews theme tune while DJing this weekend and it went OFF!\n",
      "https://t.co/01mZg6WUCI\n",
      "RT @CNN: A North Korean defector has sent thousands of copies of @TheInterview to N. Korea in balloons http://t.co/dNjKSluKJQ\n",
      "https://t.co/…\n",
      "RT @CNN: Starbucks to give workers a full ride for college. http://t.co/vpQXbX8p08\n",
      "RT @BBCR1: Greg dropped the @BBCNews theme tune while DJing this weekend and it went OFF!\n",
      "https://t.co/01mZg6WUCI\n",
      "RT @CNN: A North Korean defector has sent thousands of copies of @TheInterview to N. Korea in balloons http://t.co/dNjKSluKJQ\n",
      "https://t.co/…\n",
      "RT @BBCR1: Greg dropped the @BBCNews theme tune while DJing this weekend and it went OFF!\n",
      "https://t.co/01mZg6WUCI\n"
     ]
    }
   ],
   "source": [
    "tw = Twitter()\n",
    "tw.tweets(follow=['759251', '612473'], limit=10) # see what CNN and BBC are talking about"
   ]
  },
  {
   "cell_type": "markdown",
   "metadata": {},
   "source": [
    "Although it's fun to view the Twitter stream going by on your screen, you'll probably want to save some tweets in a file. We can tell the `tweets()` method to save to a file by setting the flag `to_screen` to `False`. The `Twitter` class will look at the value of `os.environ['TWITTER']` to determine which folder to use to save the tweets, and it will put them in a date-stamped file with the prefix `tweets.`."
   ]
  },
  {
   "cell_type": "code",
   "execution_count": 13,
   "metadata": {
    "collapsed": false
   },
   "outputs": [
    {
     "name": "stdout",
     "output_type": "stream",
     "text": [
      "Writing to /Users/ewan/twitter/tweets.20150407-165111.json\n",
      "Written 25 tweets\n"
     ]
    }
   ],
   "source": [
    "tw = Twitter()\n",
    "tw.tweets(to_screen=False, limit=25)"
   ]
  },
  {
   "cell_type": "markdown",
   "metadata": {},
   "source": [
    "So far, we've been taking data from the live public stream. However, it's also possible to retrieve past tweets, for example by searching for specific keywords, and setting `stream-False`:"
   ]
  },
  {
   "cell_type": "code",
   "execution_count": 18,
   "metadata": {
    "collapsed": false
   },
   "outputs": [
    {
     "name": "stdout",
     "output_type": "stream",
     "text": [
      "A new favorite: Voyeur - Philae &amp; Rosetta [Madhouse Records] by @madhouserecords https://t.co/Vfh45AxECn on #SoundCloud\n",
      "@theeconomist\n",
      "Yes but some projects are awesome still !Like Philae and Rosetta mission who are successful :)\n",
      "Celebrating ESA's Rosetta Mission with promo access to a planetary science Special Virtual Issue - 32 papers!  http://t.co/q6ocPKkFIz\n",
      "RT @simonrae: #Philly ... having a relaxed #Easter?\n",
      "\n",
      "@Philae2014 @Philae_MUPUS @ESA_Rosetta @Philae_Ptolemy http://t.co/nkhiRNWGFw\n",
      "#Reading : OSIRIS spots Philae drifting across the comet http://t.co/ra2VpeUWpz @florencemeichel\n",
      "DLR Portal - Rosetta - Geduld mit Lander Philae http://t.co/9YT4cOtSQv\n",
      "RT @simonrae: #Philly ... having a relaxed #Easter?\n",
      "\n",
      "@Philae2014 @Philae_MUPUS @ESA_Rosetta @Philae_Ptolemy http://t.co/nkhiRNWGFw\n",
      "Bill Nye on Rosetta Comet Landing: We'll make discoveries that nobody's imagined yet. http://t.co/JRFJ2f1Bnh via @bigthink\n",
      "#Google The #remarkable #mosaic of images revealed by Esa in a #blogpost was http://t.co/AP7Fyc3dvo\n",
      "RT @simonrae: #Philly ... having a relaxed #Easter?\n",
      "\n",
      "@Philae2014 @Philae_MUPUS @ESA_Rosetta @Philae_Ptolemy http://t.co/nkhiRNWGFw\n"
     ]
    }
   ],
   "source": [
    "tw.tweets(keywords='philae rosetta', stream=False, limit=10)"
   ]
  },
  {
   "cell_type": "code",
   "execution_count": 6,
   "metadata": {
    "collapsed": false
   },
   "outputs": [
    {
     "data": {
      "text/plain": [
       "['demo_tweets.json',\n",
       " 'rehydrated.json',\n",
       " 'rehydrated2.json',\n",
       " 'robinwilliams/tweets.20140813-092636.json',\n",
       " 'robinwilliams/tweets.20140813-095907.json',\n",
       " 'robinwilliams/tweets.20140813-103242.json',\n",
       " 'robinwilliams/tweets.20140813-110546.json',\n",
       " 'robinwilliams/tweets.20140814-104152.json',\n",
       " 'robinwilliams/tweets.20140814-115119.json',\n",
       " 'robinwilliams/tweets.20140814-125714.json',\n",
       " 'robinwilliams/tweets.20140814-134801.json',\n",
       " 'robinwilliams/tweets.20140814-143753.json',\n",
       " 'robinwilliams/tweets.20140815-140903.json',\n",
       " 'robinwilliams/tweets.20140815-140936.json',\n",
       " 'robinwilliams/tweets.20140815-151043.json',\n",
       " 'robinwilliams/tweets.20140815-160831.json',\n",
       " 'tweets.20140731-162223.json',\n",
       " 'tweets.20140731-165110.json',\n",
       " 'tweets.20140801-150110.json',\n",
       " 'tweets.20140804-123715.json',\n",
       " 'tweets.20140804-123717.json',\n",
       " 'tweets.20140804-123719.json',\n",
       " 'tweets.20140804-123720.json',\n",
       " 'tweets.20140804-123721.json',\n",
       " 'tweets.20140804-123722.json',\n",
       " 'tweets.20140804-123723.json',\n",
       " 'tweets.20140804-123724.json',\n",
       " 'tweets.20140805-121559.json',\n",
       " 'tweets.20140805-121601.json',\n",
       " 'tweets.20140805-121602.json',\n",
       " 'tweets.20140805-135210.json',\n",
       " 'tweets.20140805-135212.json',\n",
       " 'tweets.20140805-135213.json',\n",
       " 'tweets.20140805-135214.json',\n",
       " 'tweets.20140805-135215.json',\n",
       " 'tweets.20140805-135216.json',\n",
       " 'tweets.20140805-135217.json',\n",
       " 'tweets.20140805-135218.json',\n",
       " 'tweets.20140805-135219.json',\n",
       " 'tweets.20140805-135220.json',\n",
       " 'tweets.20150402-172709.json',\n",
       " 'tweets.20150403-113545.json',\n",
       " 'tweets.20150403-113548.json',\n",
       " 'tweets.20150403-113550.json',\n",
       " 'tweets.20150403-113552.json',\n",
       " 'tweets.20150403-113553.json',\n",
       " 'tweets.20150403-113554.json',\n",
       " 'tweets.20150403-113555.json',\n",
       " 'tweets.20150403-113557.json',\n",
       " 'tweets.20150403-134032.json',\n",
       " 'tweets.20150403-134034.json',\n",
       " 'tweets.20150403-134035.json',\n",
       " 'tweets.20150403-134037.json',\n",
       " 'tweets.20150403-134038.json',\n",
       " 'tweets.20150403-134040.json',\n",
       " 'tweets.20150403-134042.json',\n",
       " 'tweets.20150403-134044.json',\n",
       " 'tweets.20150403-134045.json',\n",
       " 'tweets.20150403-134047.json',\n",
       " 'tweets.20150403-134049.json',\n",
       " 'tweets.20150403-134051.json',\n",
       " 'tweets.20150403-135906.json',\n",
       " 'tweets.20150403-144033.json',\n",
       " 'tweets.20150406-112406.json',\n",
       " 'tweets.20150406-124412.json',\n",
       " 'tweets.20150406-124518.json',\n",
       " 'tweets.20150406-125348.json',\n",
       " 'tweets.20150406-125843.json',\n",
       " 'tweets.20150406-130949.json',\n",
       " 'tweets.20150406-131315.json',\n",
       " 'tweets.20150406-142603.json',\n",
       " 'tweets.20150407-095301.json',\n",
       " 'tweets.20150407-135822.json',\n",
       " 'tweets.20150407-140052.json']"
      ]
     },
     "execution_count": 6,
     "metadata": {},
     "output_type": "execute_result"
    }
   ],
   "source": [
    "import nltk\n",
    "import os\n",
    "root = os.environ['TWITTER']\n",
    "reader = nltk.corpus.TwitterCorpusReader(root, '.*\\.json')\n",
    "reader.fileids()"
   ]
  },
  {
   "cell_type": "code",
   "execution_count": null,
   "metadata": {
    "collapsed": true
   },
   "outputs": [],
   "source": []
  },
  {
   "cell_type": "code",
   "execution_count": null,
   "metadata": {
    "collapsed": true
   },
   "outputs": [],
   "source": []
  }
 ],
 "metadata": {
  "celltoolbar": "Raw Cell Format",
  "kernelspec": {
   "display_name": "Python 3",
   "language": "python",
   "name": "python3"
  },
  "language_info": {
   "codemirror_mode": {
    "name": "ipython",
    "version": 3
   },
   "file_extension": ".py",
   "mimetype": "text/x-python",
   "name": "python",
   "nbconvert_exporter": "python",
   "pygments_lexer": "ipython3",
   "version": "3.4.3"
  }
 },
 "nbformat": 4,
 "nbformat_minor": 0
}
