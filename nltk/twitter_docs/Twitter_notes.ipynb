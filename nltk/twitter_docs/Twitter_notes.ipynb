{
 "metadata": {
  "name": "",
  "signature": "sha256:0af30d28b57b72c9cc53bb014252a0ce22cd994431613e26e80890148528decc"
 },
 "nbformat": 3,
 "nbformat_minor": 0,
 "worksheets": [
  {
   "cells": [
    {
     "cell_type": "markdown",
     "metadata": {},
     "source": [
      "# Notes on using the Twitter client in Python\n"
     ]
    }
   ],
   "metadata": {}
  }
 ]
}