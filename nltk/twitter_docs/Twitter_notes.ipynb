{
 "cells": [
  {
   "cell_type": "markdown",
   "metadata": {},
   "source": [
    "# Notes on using the Twitter client in Python\n"
   ]
  },
  {
   "cell_type": "markdown",
   "metadata": {},
   "source": [
    "# Quickstart\n",
    "\n",
    "Before \n",
    "In order to gain access to the Twitter API, it is necessary to first\n",
    "[register your application with Twitter](https://dev.twitter.com/apps). There are two main options. OAuth 1\n",
    "is for user-authenticated API calls, and allows sending status\n",
    "updates, direct messages, etc, whereas OAuth 2 is for application-authenticated calls,\n",
    "where read-only access is sufficient. Although OAuth 2 sounds more\n",
    "appropriate for the kind of tasks envisaged within NLTK, it turns out\n",
    "that access to Twitter's streaming API requires OAuth 1, so the\n",
    "following discussion assumes that after logging into Twitter via a\n",
    "user account, you have obtained **Read and Write** access for your\n",
    "application (as specified on the *Permissions* tab of Twitter's\n",
    "Application Management screen). This will give you four distinct keys,\n",
    "which you should store in a text file with the following structure:\n",
    "\n",
    "    API key=YOUR API KEY\n",
    "    API secret=YOUR API SECRET\n",
    "    Access token=YOUR ACCESS TOKEN\n",
    "    Access token secret=YOUR ACCESS TOKEN SECRET\n",
    "  \n",
    "  "
   ]
  },
  {
   "cell_type": "code",
   "execution_count": 4,
   "metadata": {
    "collapsed": false
   },
   "outputs": [
    {
     "data": {
      "text/plain": [
       "['rehydrated.json',\n",
       " 'rehydrated2.json',\n",
       " 'robinwilliams/tweets.20140813-092636.json',\n",
       " 'robinwilliams/tweets.20140813-095907.json',\n",
       " 'robinwilliams/tweets.20140813-103242.json',\n",
       " 'robinwilliams/tweets.20140813-110546.json',\n",
       " 'robinwilliams/tweets.20140814-104152.json',\n",
       " 'robinwilliams/tweets.20140814-115119.json',\n",
       " 'robinwilliams/tweets.20140814-125714.json',\n",
       " 'robinwilliams/tweets.20140814-134801.json',\n",
       " 'robinwilliams/tweets.20140814-143753.json',\n",
       " 'robinwilliams/tweets.20140815-140903.json',\n",
       " 'robinwilliams/tweets.20140815-140936.json',\n",
       " 'robinwilliams/tweets.20140815-151043.json',\n",
       " 'robinwilliams/tweets.20140815-160831.json',\n",
       " 'tweets.20140731-162223.json',\n",
       " 'tweets.20140731-165110.json',\n",
       " 'tweets.20140801-150110.json',\n",
       " 'tweets.20140804-123715.json',\n",
       " 'tweets.20140804-123717.json',\n",
       " 'tweets.20140804-123719.json',\n",
       " 'tweets.20140804-123720.json',\n",
       " 'tweets.20140804-123721.json',\n",
       " 'tweets.20140804-123722.json',\n",
       " 'tweets.20140804-123723.json',\n",
       " 'tweets.20140804-123724.json',\n",
       " 'tweets.20140805-121559.json',\n",
       " 'tweets.20140805-121601.json',\n",
       " 'tweets.20140805-121602.json',\n",
       " 'tweets.20140805-135210.json',\n",
       " 'tweets.20140805-135212.json',\n",
       " 'tweets.20140805-135213.json',\n",
       " 'tweets.20140805-135214.json',\n",
       " 'tweets.20140805-135215.json',\n",
       " 'tweets.20140805-135216.json',\n",
       " 'tweets.20140805-135217.json',\n",
       " 'tweets.20140805-135218.json',\n",
       " 'tweets.20140805-135219.json',\n",
       " 'tweets.20140805-135220.json',\n",
       " 'tweets.20150402-172709.json',\n",
       " 'tweets.20150403-113545.json',\n",
       " 'tweets.20150403-113548.json',\n",
       " 'tweets.20150403-113550.json',\n",
       " 'tweets.20150403-113552.json',\n",
       " 'tweets.20150403-113553.json',\n",
       " 'tweets.20150403-113554.json',\n",
       " 'tweets.20150403-113555.json',\n",
       " 'tweets.20150403-113557.json',\n",
       " 'tweets.20150403-134032.json',\n",
       " 'tweets.20150403-134034.json',\n",
       " 'tweets.20150403-134035.json',\n",
       " 'tweets.20150403-134037.json',\n",
       " 'tweets.20150403-134038.json',\n",
       " 'tweets.20150403-134040.json',\n",
       " 'tweets.20150403-134042.json',\n",
       " 'tweets.20150403-134044.json',\n",
       " 'tweets.20150403-134045.json',\n",
       " 'tweets.20150403-134047.json',\n",
       " 'tweets.20150403-134049.json',\n",
       " 'tweets.20150403-134051.json',\n",
       " 'tweets.20150403-135906.json',\n",
       " 'tweets.20150403-144033.json']"
      ]
     },
     "execution_count": 4,
     "metadata": {},
     "output_type": "execute_result"
    }
   ],
   "source": [
    "import nltk\n",
    "import os\n",
    "root = os.environ['TWITTER']\n",
    "reader = nltk.corpus.TwitterCorpusReader(root, '.*\\.json')\n",
    "reader.fileids()"
   ]
  },
  {
   "cell_type": "code",
   "execution_count": null,
   "metadata": {
    "collapsed": true
   },
   "outputs": [],
   "source": []
  }
 ],
 "metadata": {
  "celltoolbar": "Raw Cell Format",
  "kernelspec": {
   "display_name": "Python 3",
   "language": "python",
   "name": "python3"
  },
  "language_info": {
   "codemirror_mode": {
    "name": "ipython",
    "version": 3
   },
   "file_extension": ".py",
   "mimetype": "text/x-python",
   "name": "python",
   "nbconvert_exporter": "python",
   "pygments_lexer": "ipython3",
   "version": "3.4.3"
  }
 },
 "nbformat": 4,
 "nbformat_minor": 0
}
